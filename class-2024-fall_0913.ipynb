{
  "cells": [
    {
      "cell_type": "markdown",
      "metadata": {
        "id": "view-in-github"
      },
      "source": [
        "<a href=\"https://colab.research.google.com/github/kwb425/class-2024-fall/blob/main/class-2024-fall_0913.ipynb\" target=\"_parent\"><img src=\"https://colab.research.google.com/assets/colab-badge.svg\" alt=\"Open In Colab\"/></a>"
      ]
    },
    {
      "cell_type": "markdown",
      "metadata": {
        "id": "df2zUzf1SHd3"
      },
      "source": [
        "---\n",
        "\n",
        "### 1. Lists, Tuples, and Dictionaries\n",
        "\n",
        "---\n",
        "\n",
        "#### **Lists**\n",
        "\n",
        "A list is an ordered collection of items. Lists are mutable, which means you can modify their content.\n",
        "\n",
        "* **Creating Lists**\n",
        "    ```python\n",
        "    my_list = [1, 2, 3, 4, 5]\n",
        "    ```\n",
        "\n",
        "* **Accessing Items**\n",
        "    ```python\n",
        "    first_item = my_list[0]\n",
        "    ```\n",
        "\n",
        "* **Modifying Items**\n",
        "    ```python\n",
        "    my_list[1] = 20\n",
        "    ```\n",
        "\n",
        "* **Appending & Removing**\n",
        "    ```python\n",
        "    my_list.append(6)  # Add to the end\n",
        "    my_list.remove(3)  # Remove first occurrence of 3\n",
        "    ```\n",
        "\n",
        "---\n",
        "\n",
        "#### **Tuples**\n",
        "\n",
        "Tuples are similar to lists but they are immutable. This means that you can't modify their content after creation.\n",
        "\n",
        "* **Creating Tuples**\n",
        "    ```python\n",
        "    my_tuple = (1, 2, 3, 4, 5)\n",
        "    ```\n",
        "\n",
        "* **Accessing Items**\n",
        "    ```python\n",
        "    first_item = my_tuple[0]\n",
        "    ```\n",
        "\n",
        "* **Note**: Tuples cannot be modified after creation.\n",
        "\n",
        "---\n",
        "\n",
        "#### **Dictionaries**\n",
        "\n",
        "Dictionaries are unordered collections of key-value pairs.\n",
        "\n",
        "* **Creating Dictionaries**\n",
        "    ```python\n",
        "    my_dict = {\n",
        "        \"name\": \"John\",\n",
        "        \"age\": 30,\n",
        "        \"city\": \"New York\"\n",
        "    }\n",
        "    ```\n",
        "\n",
        "* **Accessing Values**\n",
        "    ```python\n",
        "    name = my_dict[\"name\"]\n",
        "    ```\n",
        "\n",
        "* **Modifying Values**\n",
        "    ```python\n",
        "    my_dict[\"age\"] = 31\n",
        "    ```\n",
        "\n",
        "* **Adding & Removing Key-Value Pairs**\n",
        "    ```python\n",
        "    my_dict[\"country\"] = \"USA\"\n",
        "    del my_dict[\"city\"]\n",
        "    ```\n",
        "\n",
        "---\n",
        "\n",
        "### 2. Understanding Data Structures and Their Operations\n",
        "\n",
        "---\n",
        "\n",
        "#### **Lists**\n",
        "\n",
        "* **Common Operations**:\n",
        "    * Append: `list.append(item)`\n",
        "    * Insert: `list.insert(index, item)`\n",
        "    * Remove: `list.remove(item)`\n",
        "    * Pop: `list.pop(index)`\n",
        "\n",
        "* **Slicing Lists**\n",
        "    ```python\n",
        "    sub_list = my_list[1:4]\n",
        "    ```\n",
        "\n",
        "---\n",
        "\n",
        "#### **Tuples**\n",
        "\n",
        "* **Use Cases**: When you want an immutable ordered list of items.\n",
        "    * Coordinates (x, y)\n",
        "    * RGB colors (r, g, b)\n",
        "\n",
        "---\n",
        "\n",
        "#### **Dictionaries**\n",
        "\n",
        "* **Common Operations**:\n",
        "    * Add/Edit: `dict[key] = value`\n",
        "    * Remove: `del dict[key]`\n",
        "    * Get: `dict.get(key, default)`\n",
        "\n",
        "* **Keys and Values**:\n",
        "    ```python\n",
        "    keys = my_dict.keys()\n",
        "    values = my_dict.values()\n",
        "    ```\n",
        "\n",
        "---\n",
        "\n",
        "### 3. Manipulating and Accessing Data Structures\n",
        "\n",
        "---\n",
        "\n",
        "#### **Lists**\n",
        "\n",
        "* **Iterating Over Lists**\n",
        "    ```python\n",
        "    for item in my_list:\n",
        "        print(item)\n",
        "    ```\n",
        "\n",
        "* **List Comprehensions** (A concise way to create lists)\n",
        "    ```python\n",
        "    squares = [x**2 for x in range(10)]\n",
        "    ```\n",
        "\n",
        "---\n",
        "\n",
        "#### **Tuples**\n",
        "\n",
        "* **Unpacking Tuples**\n",
        "    ```python\n",
        "    x, y, z = (10, 20, 30)\n",
        "    ```\n",
        "\n",
        "---\n",
        "\n",
        "#### **Dictionaries**\n",
        "\n",
        "* **Iterating Over Dictionaries**\n",
        "    ```python\n",
        "    for key, value in my_dict.items():\n",
        "        print(key, value)\n",
        "    ```\n",
        "\n",
        "* **Dictionary Comprehensions**\n",
        "    ```python\n",
        "    square_dict = {x: x**2 for x in range(5)}\n",
        "    ```\n",
        "\n",
        "---"
      ]
    },
    {
      "cell_type": "code",
      "execution_count": 1,
      "metadata": {
        "vscode": {
          "languageId": "plaintext"
        },
        "colab": {
          "base_uri": "https://localhost:8080/"
        },
        "id": "kR1vAQbKudWu",
        "outputId": "80184068-7ac3-4744-d1ca-16e60ae08d6b"
      },
      "outputs": [
        {
          "output_type": "stream",
          "name": "stdout",
          "text": [
            "Collecting yt-dlp[default]\n",
            "  Downloading yt_dlp-2024.8.6-py3-none-any.whl.metadata (170 kB)\n",
            "\u001b[2K     \u001b[90m━━━━━━━━━━━━━━━━━━━━━━━━━━━━━━━━━━━━━━━━\u001b[0m \u001b[32m170.1/170.1 kB\u001b[0m \u001b[31m2.7 MB/s\u001b[0m eta \u001b[36m0:00:00\u001b[0m\n",
            "\u001b[?25hCollecting brotli (from yt-dlp[default])\n",
            "  Downloading Brotli-1.1.0-cp310-cp310-manylinux_2_5_x86_64.manylinux1_x86_64.manylinux_2_12_x86_64.manylinux2010_x86_64.whl.metadata (5.5 kB)\n",
            "Requirement already satisfied: certifi in /usr/local/lib/python3.10/dist-packages (from yt-dlp[default]) (2024.8.30)\n",
            "Collecting mutagen (from yt-dlp[default])\n",
            "  Downloading mutagen-1.47.0-py3-none-any.whl.metadata (1.7 kB)\n",
            "Collecting pycryptodomex (from yt-dlp[default])\n",
            "  Downloading pycryptodomex-3.20.0-cp35-abi3-manylinux_2_17_x86_64.manylinux2014_x86_64.whl.metadata (3.4 kB)\n",
            "Requirement already satisfied: requests<3,>=2.32.2 in /usr/local/lib/python3.10/dist-packages (from yt-dlp[default]) (2.32.3)\n",
            "Requirement already satisfied: urllib3<3,>=1.26.17 in /usr/local/lib/python3.10/dist-packages (from yt-dlp[default]) (2.0.7)\n",
            "Collecting websockets>=12.0 (from yt-dlp[default])\n",
            "  Downloading websockets-13.0.1-cp310-cp310-manylinux_2_5_x86_64.manylinux1_x86_64.manylinux_2_17_x86_64.manylinux2014_x86_64.whl.metadata (6.7 kB)\n",
            "Requirement already satisfied: charset-normalizer<4,>=2 in /usr/local/lib/python3.10/dist-packages (from requests<3,>=2.32.2->yt-dlp[default]) (3.3.2)\n",
            "Requirement already satisfied: idna<4,>=2.5 in /usr/local/lib/python3.10/dist-packages (from requests<3,>=2.32.2->yt-dlp[default]) (3.8)\n",
            "Downloading websockets-13.0.1-cp310-cp310-manylinux_2_5_x86_64.manylinux1_x86_64.manylinux_2_17_x86_64.manylinux2014_x86_64.whl (157 kB)\n",
            "\u001b[2K   \u001b[90m━━━━━━━━━━━━━━━━━━━━━━━━━━━━━━━━━━━━━━━━\u001b[0m \u001b[32m157.3/157.3 kB\u001b[0m \u001b[31m7.2 MB/s\u001b[0m eta \u001b[36m0:00:00\u001b[0m\n",
            "\u001b[?25hDownloading Brotli-1.1.0-cp310-cp310-manylinux_2_5_x86_64.manylinux1_x86_64.manylinux_2_12_x86_64.manylinux2010_x86_64.whl (3.0 MB)\n",
            "\u001b[2K   \u001b[90m━━━━━━━━━━━━━━━━━━━━━━━━━━━━━━━━━━━━━━━━\u001b[0m \u001b[32m3.0/3.0 MB\u001b[0m \u001b[31m44.1 MB/s\u001b[0m eta \u001b[36m0:00:00\u001b[0m\n",
            "\u001b[?25hDownloading mutagen-1.47.0-py3-none-any.whl (194 kB)\n",
            "\u001b[2K   \u001b[90m━━━━━━━━━━━━━━━━━━━━━━━━━━━━━━━━━━━━━━━━\u001b[0m \u001b[32m194.4/194.4 kB\u001b[0m \u001b[31m8.2 MB/s\u001b[0m eta \u001b[36m0:00:00\u001b[0m\n",
            "\u001b[?25hDownloading pycryptodomex-3.20.0-cp35-abi3-manylinux_2_17_x86_64.manylinux2014_x86_64.whl (2.1 MB)\n",
            "\u001b[2K   \u001b[90m━━━━━━━━━━━━━━━━━━━━━━━━━━━━━━━━━━━━━━━━\u001b[0m \u001b[32m2.1/2.1 MB\u001b[0m \u001b[31m44.9 MB/s\u001b[0m eta \u001b[36m0:00:00\u001b[0m\n",
            "\u001b[?25hDownloading yt_dlp-2024.8.6-py3-none-any.whl (3.1 MB)\n",
            "\u001b[2K   \u001b[90m━━━━━━━━━━━━━━━━━━━━━━━━━━━━━━━━━━━━━━━━\u001b[0m \u001b[32m3.1/3.1 MB\u001b[0m \u001b[31m33.8 MB/s\u001b[0m eta \u001b[36m0:00:00\u001b[0m\n",
            "\u001b[?25hInstalling collected packages: brotli, websockets, pycryptodomex, mutagen, yt-dlp\n",
            "Successfully installed brotli-1.1.0 mutagen-1.47.0 pycryptodomex-3.20.0 websockets-13.0.1 yt-dlp-2024.8.6\n"
          ]
        }
      ],
      "source": [
        "!pip install -U \"yt-dlp[default]\""
      ]
    },
    {
      "cell_type": "code",
      "source": [
        "!yt-dlp https://www.youtube.com/watch?v=OAytboCX6QU&t=8s"
      ],
      "metadata": {
        "colab": {
          "base_uri": "https://localhost:8080/"
        },
        "id": "tj6ZaJfu5Lbs",
        "outputId": "e2519075-9746-4d08-b2e4-68660bd77b05"
      },
      "execution_count": 2,
      "outputs": [
        {
          "output_type": "stream",
          "name": "stdout",
          "text": [
            "[youtube] Extracting URL: https://www.youtube.com/watch?v=OAytboCX6QU\n",
            "[youtube] OAytboCX6QU: Downloading webpage\n",
            "[youtube] OAytboCX6QU: Downloading ios player API JSON\n",
            "[youtube] OAytboCX6QU: Downloading web creator player API JSON\n",
            "[youtube] OAytboCX6QU: Downloading player e38bb6de\n",
            "[youtube] OAytboCX6QU: Downloading m3u8 information\n",
            "[info] OAytboCX6QU: Downloading 1 format(s): 247+251\n",
            "[download] Destination: 원피스 해적왕 골드 로저의 처형식 명장면 [OAytboCX6QU].f247.webm\n",
            "\u001b[K[download] 100% of   12.52MiB in \u001b[1;37m00:00:00\u001b[0m at \u001b[0;32m21.71MiB/s\u001b[0m\n",
            "[download] Destination: 원피스 해적왕 골드 로저의 처형식 명장면 [OAytboCX6QU].f251.webm\n",
            "\u001b[K[download] 100% of    2.65MiB in \u001b[1;37m00:00:00\u001b[0m at \u001b[0;32m6.21MiB/s\u001b[0m\n",
            "[Merger] Merging formats into \"원피스 해적왕 골드 로저의 처형식 명장면 [OAytboCX6QU].webm\"\n",
            "Deleting original file 원피스 해적왕 골드 로저의 처형식 명장면 [OAytboCX6QU].f251.webm (pass -k to keep)\n",
            "Deleting original file 원피스 해적왕 골드 로저의 처형식 명장면 [OAytboCX6QU].f247.webm (pass -k to keep)\n"
          ]
        }
      ]
    },
    {
      "cell_type": "code",
      "source": [
        "!apt install ffmpeg"
      ],
      "metadata": {
        "colab": {
          "base_uri": "https://localhost:8080/"
        },
        "id": "p88gaUXZ540h",
        "outputId": "d0e71194-e09d-4c3b-95ba-0a479d7e677c"
      },
      "execution_count": 3,
      "outputs": [
        {
          "output_type": "stream",
          "name": "stdout",
          "text": [
            "Reading package lists... Done\n",
            "Building dependency tree... Done\n",
            "Reading state information... Done\n",
            "ffmpeg is already the newest version (7:4.4.2-0ubuntu0.22.04.1).\n",
            "0 upgraded, 0 newly installed, 0 to remove and 49 not upgraded.\n"
          ]
        }
      ]
    },
    {
      "cell_type": "code",
      "source": [
        "!ffmpeg -i \"원피스 해적왕 골드 로저의 처형식 명장면 [OAytboCX6QU].webm\" -q:a 0 -map a extracted.mp3"
      ],
      "metadata": {
        "colab": {
          "base_uri": "https://localhost:8080/"
        },
        "id": "7V75tM6Y7e1X",
        "outputId": "b6e07e80-c8a2-411c-a9a0-6ea54abb31f9"
      },
      "execution_count": 4,
      "outputs": [
        {
          "output_type": "stream",
          "name": "stdout",
          "text": [
            "ffmpeg version 4.4.2-0ubuntu0.22.04.1 Copyright (c) 2000-2021 the FFmpeg developers\n",
            "  built with gcc 11 (Ubuntu 11.2.0-19ubuntu1)\n",
            "  configuration: --prefix=/usr --extra-version=0ubuntu0.22.04.1 --toolchain=hardened --libdir=/usr/lib/x86_64-linux-gnu --incdir=/usr/include/x86_64-linux-gnu --arch=amd64 --enable-gpl --disable-stripping --enable-gnutls --enable-ladspa --enable-libaom --enable-libass --enable-libbluray --enable-libbs2b --enable-libcaca --enable-libcdio --enable-libcodec2 --enable-libdav1d --enable-libflite --enable-libfontconfig --enable-libfreetype --enable-libfribidi --enable-libgme --enable-libgsm --enable-libjack --enable-libmp3lame --enable-libmysofa --enable-libopenjpeg --enable-libopenmpt --enable-libopus --enable-libpulse --enable-librabbitmq --enable-librubberband --enable-libshine --enable-libsnappy --enable-libsoxr --enable-libspeex --enable-libsrt --enable-libssh --enable-libtheora --enable-libtwolame --enable-libvidstab --enable-libvorbis --enable-libvpx --enable-libwebp --enable-libx265 --enable-libxml2 --enable-libxvid --enable-libzimg --enable-libzmq --enable-libzvbi --enable-lv2 --enable-omx --enable-openal --enable-opencl --enable-opengl --enable-sdl2 --enable-pocketsphinx --enable-librsvg --enable-libmfx --enable-libdc1394 --enable-libdrm --enable-libiec61883 --enable-chromaprint --enable-frei0r --enable-libx264 --enable-shared\n",
            "  libavutil      56. 70.100 / 56. 70.100\n",
            "  libavcodec     58.134.100 / 58.134.100\n",
            "  libavformat    58. 76.100 / 58. 76.100\n",
            "  libavdevice    58. 13.100 / 58. 13.100\n",
            "  libavfilter     7.110.100 /  7.110.100\n",
            "  libswscale      5.  9.100 /  5.  9.100\n",
            "  libswresample   3.  9.100 /  3.  9.100\n",
            "  libpostproc    55.  9.100 / 55.  9.100\n",
            "Input #0, matroska,webm, from '원피스 해적왕 골드 로저의 처형식 명장면 [OAytboCX6QU].webm':\n",
            "  Metadata:\n",
            "    ENCODER         : Lavf58.76.100\n",
            "  Duration: 00:02:44.40, start: -0.007000, bitrate: 774 kb/s\n",
            "  Stream #0:0(eng): Video: vp9 (Profile 0), yuv420p(tv, bt709), 1280x720, SAR 1:1 DAR 16:9, 24 fps, 24 tbr, 1k tbn, 1k tbc (default)\n",
            "    Metadata:\n",
            "      DURATION        : 00:02:44.375000000\n",
            "  Stream #0:1(eng): Audio: opus, 48000 Hz, stereo, fltp (default)\n",
            "    Metadata:\n",
            "      DURATION        : 00:02:44.401000000\n",
            "Stream mapping:\n",
            "  Stream #0:1 -> #0:0 (opus (native) -> mp3 (libmp3lame))\n",
            "Press [q] to stop, [?] for help\n",
            "Output #0, mp3, to 'extracted.mp3':\n",
            "  Metadata:\n",
            "    TSSE            : Lavf58.76.100\n",
            "  Stream #0:0(eng): Audio: mp3, 48000 Hz, stereo, fltp (default)\n",
            "    Metadata:\n",
            "      DURATION        : 00:02:44.401000000\n",
            "      encoder         : Lavc58.134.100 libmp3lame\n",
            "size=    4585kB time=00:02:44.38 bitrate= 228.5kbits/s speed=38.3x    \n",
            "video:0kB audio:4584kB subtitle:0kB other streams:0kB global headers:0kB muxing overhead: 0.005049%\n"
          ]
        }
      ]
    },
    {
      "cell_type": "markdown",
      "source": [
        "https://huggingface.co/spaces/sanchit-gandhi/whisper-jax-spaces\n",
        "\n",
        "https://www.deepl.com/en/translator\n"
      ],
      "metadata": {
        "id": "SyO230UP7hiE"
      }
    }
  ],
  "metadata": {
    "colab": {
      "provenance": []
    },
    "kernelspec": {
      "display_name": "Python 3",
      "name": "python3"
    },
    "language_info": {
      "name": "python"
    }
  },
  "nbformat": 4,
  "nbformat_minor": 0
}