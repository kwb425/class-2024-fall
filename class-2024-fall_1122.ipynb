{
 "cells": [
  {
   "cell_type": "markdown",
   "metadata": {
    "colab_type": "text",
    "id": "view-in-github"
   },
   "source": [
    "<a href=\"https://colab.research.google.com/github/kwb425/class-2024-fall/blob/main/class-2024-fall_1122.ipynb\" target=\"_parent\"><img src=\"https://colab.research.google.com/assets/colab-badge.svg\" alt=\"Open In Colab\"/></a>"
   ]
  },
  {
   "cell_type": "code",
   "execution_count": null,
   "metadata": {
    "id": "v_QBPnrEWzH9"
   },
   "outputs": [],
   "source": [
    "# Install required libraries\n",
    "!pip install scipy matplotlib pydub\n",
    "\n",
    "# Import necessary libraries\n",
    "import numpy as np\n",
    "import matplotlib.pyplot as plt\n",
    "from scipy.io import wavfile\n",
    "from scipy.fft import fft, ifft\n",
    "from pydub import AudioSegment\n",
    "from pydub.playback import play\n",
    "from google.colab import files\n",
    "\n",
    "# Function to plot the signal\n",
    "def plot_signal(time, signal, title=\"Signal\", xlabel=\"Time (s)\", ylabel=\"Amplitude\"):\n",
    "    plt.figure(figsize=(10, 4))\n",
    "    plt.plot(time, signal)\n",
    "    plt.title(title)\n",
    "    plt.xlabel(xlabel)\n",
    "    plt.ylabel(ylabel)\n",
    "    plt.grid()\n",
    "    plt.show()\n",
    "\n",
    "# # Step 1: Upload the WAV file\n",
    "# uploaded = files.upload()\n",
    "# wav_file_name = list(uploaded.keys())[0]\n",
    "wav_file_name = \"high0.wav\"\n",
    "\n",
    "\n",
    "# Step 2: Read the WAV file\n",
    "sample_rate, data = wavfile.read(wav_file_name)\n",
    "print(f\"Sample rate: {sample_rate} Hz\")\n",
    "print(f\"Shape of data: {data.shape}\")\n",
    "\n",
    "# Convert to mono if stereo\n",
    "if len(data.shape) == 2:\n",
    "    data = np.mean(data, axis=1)\n",
    "\n",
    "# Time axis for plotting\n",
    "time = np.linspace(0, len(data) / sample_rate, num=len(data))\n",
    "\n",
    "# Plot original signal\n",
    "plot_signal(time, data, title=\"Original Signal\")\n",
    "\n",
    "# Step 3: Perform FFT\n",
    "fft_result = fft(data)\n",
    "frequencies = np.fft.fftfreq(len(fft_result), d=1/sample_rate)\n",
    "\n",
    "# Plot FFT magnitude\n",
    "plt.figure(figsize=(10, 4))\n",
    "plt.plot(frequencies[:len(frequencies)//2], np.abs(fft_result)[:len(fft_result)//2])\n",
    "plt.title(\"FFT Magnitude\")\n",
    "plt.xlabel(\"Frequency (Hz)\")\n",
    "plt.ylabel(\"Amplitude\")\n",
    "plt.grid()\n",
    "plt.show()\n",
    "\n",
    "# Step 4: Apply frequency cutoff\n",
    "freq_cutoff = 1000  # Change this value to set the frequency cutoff in Hz\n",
    "print(f\"Applying frequency cutoff at {freq_cutoff} Hz\")\n",
    "fft_result[np.abs(frequencies) > freq_cutoff] = 0\n",
    "\n",
    "# Plot FFT magnitude\n",
    "plt.figure(figsize=(10, 4))\n",
    "plt.plot(frequencies[:len(frequencies)//2], np.abs(fft_result)[:len(fft_result)//2])\n",
    "plt.title(\"FFT Magnitude After Cutoff\")\n",
    "plt.xlabel(\"Frequency (Hz)\")\n",
    "plt.ylabel(\"Amplitude\")\n",
    "plt.grid()\n",
    "plt.show()\n",
    "\n",
    "# Step 5: Perform Inverse FFT\n",
    "filtered_signal = np.real(ifft(fft_result))\n",
    "\n",
    "# Plot filtered signal\n",
    "plot_signal(time, filtered_signal, title=\"Filtered Signal\")\n",
    "\n",
    "# Step 6: Save filtered signal back to a WAV file\n",
    "filtered_signal = np.int16(filtered_signal / np.max(np.abs(filtered_signal)) * 32767)  # Normalize to 16-bit\n",
    "filtered_file_name = \"filtered_output.wav\"\n",
    "wavfile.write(filtered_file_name, sample_rate, filtered_signal)\n",
    "print(f\"Filtered audio saved as {filtered_file_name}\")\n",
    "\n",
    "# Download the filtered WAV file\n",
    "files.download(filtered_file_name)\n",
    "\n"
   ]
  }
 ],
 "metadata": {
  "colab": {
   "authorship_tag": "ABX9TyPUR6YB4o85f8Gwntxny0cj",
   "include_colab_link": true,
   "provenance": []
  },
  "kernelspec": {
   "display_name": "Python 3",
   "name": "python3"
  },
  "language_info": {
   "name": "python"
  }
 },
 "nbformat": 4,
 "nbformat_minor": 0
}
